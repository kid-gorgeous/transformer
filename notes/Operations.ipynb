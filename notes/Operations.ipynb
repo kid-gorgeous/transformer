{
 "cells": [
  {
   "cell_type": "markdown",
   "id": "bfe0beb0",
   "metadata": {},
   "source": [
    "## Pointwise\n",
    "---\n",
    "\n",
    "In mathematics, the qualifer pointwise is used to indicate that a certian ***property*** is defined by considering each value F(x) of some function f. An important class of pointwise concepts are the *pointwise operation*, that is, operations defined on functions by applying the operations to function values seperately for each point in the domain of definition. \n",
    "\n",
    "\n",
    "\n",
    "### Pointwise operations\n",
    "---\n",
    "#### Formal definition\n",
    "\n",
    "A binary operation: $o: Y \\times Y \\rightarrow$ on a set *Y* can be lifted pointwise to an operation $O:(X \\rightarrow Y) \\times (X \\rightarrow Y)$ on the set $X \\rightarrow Y$ of all functions from *X* to *Y* as follows: Given two functions $f_{1}: X \\rightarrow Y$ and $f_{2}: X \\rightarrow Y$, define the function $O(f_{1}, f_{2}): X \\rightarrow Y$ by\n",
    "> $(O(f_{1}, f_{2}))(x) = o(f_{1}, f_{2}))$ for all $x \\in X$\n",
    "\n",
    "Commonly, *o* and *O* are denoted by the same symbol. A similar definition is used for unary operations *o*, and for operations of ather [arity](https://en.wikipedia.org/wiki/Arity).\n",
    "\n",
    "#### Examples\n",
    "</br>\n",
    "$(f + g)(x) = f(x) + g(x)$ </br>\n",
    "$(f \\dot g)(x) = f(x) \\dot g(x)$ </br>\n",
    "$(\\lambda \\dot f)(x) = \\lambda \\dot f(x)$ </br>\n",
    "\n",
    "where $f,g: X \\rightarrow R$\n",
    "\n",
    "There are also pointwise [product](https://en.wikipedia.org/wiki/Pointwise_product), and [scalar](https://en.wikipedia.org/wiki/Scalar_(mathematics)) \n",
    "\n",
    "An example of an operation on functions which is *not* pointwise is [convolution](https://en.wikipedia.org/wiki/Convolution)\n",
    "\n",
    "#### Properties\n",
    "</br>\n",
    "Pointwise operations inherit such properties as [associativity](https://en.wikipedia.org/wiki/Associative_property), [commutativity](https://en.wikipedia.org/wiki/Commutative_property), and [distributivity](https://en.wikipedia.org/wiki/Distributive_property), from corresponding operations on the [codomain](https://en.wikipedia.org/wiki/Codomain). If *A* is some [algebraic structure](https://en.wikipedia.org/wiki/Algebraic_structure), the set of all functions *X* to the [carrier set](https://en.wikipedia.org/wiki/Algebraic_structure) of *A* can be turned into an algebraic structure of the same type in an analogoues way.\n",
    "\n",
    "### Componentwise operations\n",
    "---\n",
    "</br>\n",
    "Componentwise operations are usually defined on vectors, where vectors are elements of the set $K_{n}$ for some [natural number](https://en.wikipedia.org/wiki/Natural_number) *n* and some [field](https://en.wikipedia.org/wiki/Field_(mathematics)) *K*. If we denote the *i*-th component of any vector $v* as *v_{i}$, then componentwise addition is $(u + v)_{i} = u_{i} + v_{i}$.\n",
    "\n",
    "Componentwise operations can be defined on matrices. Matix addtion, where $(A + B)_{ij} = A_{ij} + B_{ij}$ is a componentwise operation while [matrix multiplaction](https://en.wikipedia.org/wiki/Matrix_multiplication) is not.\n",
    "\n",
    "A [tuple] can be regarded as a function, and a vector is a tuple. Therefore, any vector $v$ corresponds to the function $f: n \\rightarrow K$ such that $f(i) = v_{i}$, and any componentwise operation on vectors is the pointwise operation on functions corresponding to those vectors.\n",
    "\n",
    "### Pointwise relations\n",
    "---\n",
    "</br>\n",
    "In [order theory] it is common to define a pointwise [partial order] on functions. With *A*, *B* [posets], the set of functions $A \\rightarrow B$ can be ordered by $f /leq g$ if and only if $"
   ]
  }
 ],
 "metadata": {
  "kernelspec": {
   "display_name": "Python 3 (ipykernel)",
   "language": "python",
   "name": "python3"
  },
  "language_info": {
   "codemirror_mode": {
    "name": "ipython",
    "version": 3
   },
   "file_extension": ".py",
   "mimetype": "text/x-python",
   "name": "python",
   "nbconvert_exporter": "python",
   "pygments_lexer": "ipython3",
   "version": "3.11.3"
  }
 },
 "nbformat": 4,
 "nbformat_minor": 5
}
